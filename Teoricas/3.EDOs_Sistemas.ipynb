{
 "cells": [
  {
   "cell_type": "code",
   "execution_count": null,
   "metadata": {
    "id": "eMWU-yMuDKYo"
   },
   "outputs": [],
   "source": [
    "import numpy as np\n",
    "import matplotlib.pyplot as plt"
   ]
  },
  {
   "cell_type": "markdown",
   "metadata": {},
   "source": [
    "## Método de Euler\n"
   ]
  },
  {
   "cell_type": "code",
   "execution_count": null,
   "metadata": {},
   "outputs": [],
   "source": [
    "def metodo_euler_explicito(y0, t0, TF, f, N):\n",
    "    y = np.zeros([len(y0),N+1])\n",
    "    t = np.linspace(t0,TF,N+1)\n",
    "    \n",
    "    y[:,0] = y0\n",
    "    \n",
    "    h = t[1]-t[0] #tamaño del paso\n",
    "    \n",
    "    for n in range(N):\n",
    "        y[:,n+1] = y[:,n] + h*f(t[n],y[:,n])\n",
    "          \n",
    "    return t, y"
   ]
  },
  {
   "cell_type": "markdown",
   "metadata": {},
   "source": [
    "## **Ejercicio 3**\n",
    "\n",
    "Para modelar la propagación de una enfermedad infecciosa suele usarse el modelo SIR. En este modelo la población se separa en tres grupos distintos: susceptibles (S), infectados (I) y recuperados (R). Las proporciones de la población que están en cada uno de estos grupos satisfacen el siguiente sistema de ecuaciones diferenciales:\n",
    "\n",
    "$$\n",
    "\\begin{cases} \n",
    "\\dot{S}(t) = -\\beta S(t) I(t) \\\\\n",
    "\\dot{I}(t) = -\\gamma I(t) + \\beta S(t) I(t)\\\\\n",
    "\\dot{R}(t) = \\gamma I(t)\n",
    "\\end{cases}\n",
    "$$\n",
    "\n",
    "donde la constante $\\beta$ está determinada por la contagiosidad de la enfermedad, y la constante $\\gamma$ por la duración del período infeccioso.\n",
    "\n",
    "*a)* Usando el método de Euler aproximar la solución al sistema para $t$ entre $0$ y $180$ suponiendo que $\\beta=0.25$, $\\gamma=0.1$ e inicialmente la proporción de población infectada es $0.0001$ y no hay recuperados. Realizar la aproximación con longitudes de paso igual a $1$,$10$ y $20$.\n",
    "\n",
    "*b)* Para cada una de las longitudes de paso realizar un gráfico de las tres cantidades $S$,$I$ y $R$ en el tiempo. ¿Qué se observa?\n",
    "\n",
    "*c)* De analizar los resultados obtenidos, ¿se espera que eventualmente toda la población haya atravesado la enfermedad?"
   ]
  },
  {
   "cell_type": "code",
   "execution_count": null,
   "metadata": {},
   "outputs": [],
   "source": [
    "def f_ode(t,z):\n",
    "    x,y,w = z\n",
    "    b = 0.25 \n",
    "    c = 0.1\n",
    "    dx = -b*x*y\n",
    "    dy = -c*y+b*x*y\n",
    "    dw = c*y\n",
    "    return np.array([dx,dy,dw])\n",
    "\n",
    "t0 = 0\n",
    "TF = 180\n",
    "z0 = [1-0.0001,0.0001,0]\n",
    "\n",
    "for h in [1,10,20]:\n",
    "    N =  int( (TF-t0)/h )\n",
    "    vals_t, vals_z = metodo_euler_explicito(z0, t0, TF, f_ode, N)\n",
    "    \n",
    "    plt.plot(vals_t, vals_z[0,:], label='S(t)')\n",
    "    plt.plot(vals_t, vals_z[1,:], label='I(t)')\n",
    "    plt.plot(vals_t, vals_z[2,:], label='R(t)')\n",
    "    plt.title('h='+str(h))\n",
    "    plt.xlabel('Tiempo t')\n",
    "    plt.legend()\n",
    "    plt.show()\n"
   ]
  },
  {
   "cell_type": "code",
   "execution_count": null,
   "metadata": {},
   "outputs": [],
   "source": [
    "from scipy.integrate import solve_ivp\n",
    "\n",
    "sol = solve_ivp(f_ode, [t0, TF], z0, dense_output=True)\n",
    "\n",
    "t = np.linspace(t0, TF, 100)\n",
    "z = sol.sol(t)\n",
    "\n",
    "plt.plot(t, z.T,'*-')\n",
    "\n",
    "y = sol.y\n",
    "plt.plot(sol.t,y.T,'*')\n",
    "\n",
    "plt.xlabel('t')\n",
    "\n",
    "plt.show()"
   ]
  },
  {
   "cell_type": "markdown",
   "metadata": {},
   "source": [
    "### Ej. 12 Pr.8 Mate I (B) - Modelos de transmisión de enfermedades (SIR) reducido:\n",
    "\n",
    "## $$\\begin{cases}\n",
    "\t\t\tS' = -S.I + (2 -S - I)\\\\\n",
    "\t\t\tI' = S.I - I \n",
    "\t\t\\end{cases}$$\n",
    "\n",
    "\n",
    "### Considere los equilibrios $(2,0)$ y $\\left(1,\\frac{1}{2}\\right)$, y vea el diagrama de fases alrededor de ambos equilibrios."
   ]
  },
  {
   "cell_type": "code",
   "execution_count": null,
   "metadata": {},
   "outputs": [],
   "source": [
    "def f(t,z):\n",
    "    x, y = z\n",
    "    dx = -x*y+(2-x-y)\n",
    "    dy = x*y-y\n",
    "    return [dx,dy]\n",
    "\n",
    "\n",
    "t0 =0\n",
    "tF = 100\n",
    "\n",
    "# Cerca de (2,0)\n",
    "\n",
    "x0 = 2+1e-4\n",
    "y0 = 0+1e-4\n",
    "\n",
    "z0 = [x0,y0]\n",
    "\n",
    "sol = solve_ivp(f, [t0, tF], z0, dense_output=True)\n",
    "\n",
    "t = np.linspace(t0, tF, 7000)\n",
    "z = sol.sol(t)\n",
    "\n",
    "plt.figure(figsize=(10,6))\n",
    "\n",
    "plt.subplot(1,2,1)\n",
    "\n",
    "plt.plot(t, z.T)\n",
    "\n",
    "plt.xlabel('t')\n",
    "\n",
    "plt.legend(['S','I'])\n",
    "\n",
    "plt.subplot(1,2,2)\n",
    "\n",
    "plt.plot(z[0,:],z[1,:])\n",
    "\n",
    "plt.plot(z[0,0],z[1,0],'*r')\n",
    "\n",
    "plt.plot(z[0,-1],z[1,-1],'*g')\n",
    "\n",
    "plt.xlabel('S')\n",
    "\n",
    "plt.ylabel('I')\n",
    "\n",
    "plt.show()"
   ]
  },
  {
   "cell_type": "code",
   "execution_count": null,
   "metadata": {},
   "outputs": [],
   "source": [
    "# Cerca de (1,0.5)\n",
    "\n",
    "x0 = 1+1e-4\n",
    "y0 = 0.5+1e-4\n",
    "\n",
    "z0 = [x0,y0]\n",
    "\n",
    "sol = solve_ivp(f, [t0, tF], z0, dense_output=True)#, method='BDF')\n",
    "\n",
    "t = np.linspace(t0, tF, 7000)\n",
    "z = sol.sol(t)\n",
    "\n",
    "plt.figure(figsize=(10,6))\n",
    "\n",
    "plt.subplot(1,2,1)\n",
    "\n",
    "plt.plot(t, z.T)\n",
    "\n",
    "plt.xlabel('t')\n",
    "\n",
    "plt.legend(['S','I'])\n",
    "\n",
    "plt.subplot(1,2,2)\n",
    "\n",
    "plt.plot(z[0,:],z[1,:])\n",
    "\n",
    "plt.plot(z[0,0],z[1,0],'*r')\n",
    "\n",
    "plt.plot(z[0,-1],z[1,-1],'*g')\n",
    "\n",
    "plt.xlabel('S')\n",
    "\n",
    "plt.ylabel('I')\n",
    "\n",
    "plt.show()"
   ]
  },
  {
   "cell_type": "code",
   "execution_count": null,
   "metadata": {},
   "outputs": [],
   "source": []
  }
 ],
 "metadata": {
  "colab": {
   "collapsed_sections": [],
   "name": "ClaseTeorica_TM_MateII_6Abr2022.ipynb",
   "provenance": []
  },
  "kernelspec": {
   "display_name": "Python 3 (ipykernel)",
   "language": "python",
   "name": "python3"
  },
  "language_info": {
   "codemirror_mode": {
    "name": "ipython",
    "version": 3
   },
   "file_extension": ".py",
   "mimetype": "text/x-python",
   "name": "python",
   "nbconvert_exporter": "python",
   "pygments_lexer": "ipython3",
   "version": "3.11.7"
  }
 },
 "nbformat": 4,
 "nbformat_minor": 4
}
