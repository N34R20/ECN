{
 "cells": [
  {
   "cell_type": "code",
   "execution_count": null,
   "metadata": {
    "id": "eMWU-yMuDKYo"
   },
   "outputs": [],
   "source": [
    "import numpy as np\n",
    "import matplotlib.pyplot as plt"
   ]
  },
  {
   "cell_type": "markdown",
   "metadata": {},
   "source": [
    "## Método de Euler\n"
   ]
  },
  {
   "cell_type": "code",
   "execution_count": null,
   "metadata": {},
   "outputs": [],
   "source": [
    "def metodo_euler_explicito(y0, t0, TF, f, N):\n",
    "    y = np.zeros(N+1)\n",
    "    t = np.linspace(t0,TF,N+1)\n",
    "    \n",
    "    y[0] = y0\n",
    "    \n",
    "    h = t[1]-t[0] #tamaño del paso\n",
    "    \n",
    "    for n in range(N):\n",
    "        y[n+1] = y[n] + h*f(t[n],y[n])\n",
    "          \n",
    "    return t, y"
   ]
  },
  {
   "cell_type": "code",
   "execution_count": null,
   "metadata": {},
   "outputs": [],
   "source": [
    "# Aproximo por Euler explícito la sol. de la ec. dif. que me dan.\n",
    "\n",
    "def func(t,y):\n",
    "    return t*(np.cos(y))**2\n",
    "\n",
    "y0 = 1\n",
    "t0 = 0\n",
    "TF = 2\n",
    "\n",
    "N = 30\n",
    "vals_t, vals_y = metodo_euler_explicito(y0, t0, TF, func, N)\n",
    "plt.plot(vals_t ,vals_y, '*-',label='y(t) por Euler con N={}'.format(N))\n",
    "\n",
    "plt.xlabel('Tiempo t')\n",
    "plt.ylabel('y(t)')\n",
    "plt.legend()\n",
    "plt.show()"
   ]
  },
  {
   "cell_type": "code",
   "execution_count": null,
   "metadata": {},
   "outputs": [],
   "source": [
    "for N in [5, 10, 50, 100]:\n",
    "    vals_t, vals_y = metodo_euler_explicito(y0, t0, TF, func, N)\n",
    "    plt.plot(vals_t ,vals_y, '*-', label='y(t) por Euler con N={}'.format(N))\n",
    "\n",
    "plt.xlabel('Tiempo t')\n",
    "plt.ylabel('y(t)')\n",
    "plt.legend()\n",
    "plt.show()"
   ]
  },
  {
   "cell_type": "markdown",
   "metadata": {},
   "source": [
    "## Método de Runge-Kutta"
   ]
  },
  {
   "cell_type": "code",
   "execution_count": null,
   "metadata": {},
   "outputs": [],
   "source": [
    "def metodo_RK4(y0, t0, TF, f, N):\n",
    "    y = np.zeros(N+1)\n",
    "    t = np.linspace(t0,TF,N+1)\n",
    "    \n",
    "    y[0] = y0\n",
    "    \n",
    "    h = t[1]-t[0] #tamaño del paso\n",
    "    \n",
    "    for n in range(N):\n",
    "        k1 = f(t[n], y[n])\n",
    "        k2 = f((t[n]+h/2), (y[n]+k1/2))\n",
    "        k3 = f((t[n]+h/2), (y[n]+k2/2))\n",
    "        k4 = f((t[n]+h), (y[n]+k3))\n",
    "        k = (k1+2*k2+2*k3+k4)/6 \n",
    "        y[n+1] = y[n] + h*k\n",
    "          \n",
    "    return t, y"
   ]
  },
  {
   "cell_type": "code",
   "execution_count": null,
   "metadata": {},
   "outputs": [],
   "source": [
    "# Aproximo por R-K 4 la sol. de la ec. dif. que me dan.\n",
    "\n",
    "for N in [5, 10, 50, 100]:\n",
    "    vals_t, vals_y = metodo_RK4(y0, t0, TF, func, N)\n",
    "    plt.plot(vals_t ,vals_y, '*-', label='y(t) por RK4 con N={}'.format(N))\n",
    "\n",
    "plt.xlabel('Tiempo t')\n",
    "plt.ylabel('y(t)')\n",
    "plt.legend()\n",
    "plt.show()"
   ]
  },
  {
   "cell_type": "code",
   "execution_count": null,
   "metadata": {},
   "outputs": [],
   "source": [
    "from scipy.integrate import solve_ivp\n",
    "\n",
    "sol = solve_ivp(func, [t0, TF], [y0], dense_output=True)\n",
    "\n",
    "t = np.linspace(t0, TF, 100)\n",
    "z = sol.sol(t)\n",
    "\n",
    "plt.plot(t, z.T,'*-')\n",
    "\n",
    "y = sol.y\n",
    "plt.plot(sol.t,y.T,'*')\n",
    "\n",
    "plt.xlabel('t')\n",
    "\n",
    "plt.show()"
   ]
  },
  {
   "cell_type": "code",
   "execution_count": null,
   "metadata": {},
   "outputs": [],
   "source": []
  }
 ],
 "metadata": {
  "colab": {
   "collapsed_sections": [],
   "name": "ClaseTeorica_TM_MateII_6Abr2022.ipynb",
   "provenance": []
  },
  "kernelspec": {
   "display_name": "Python 3 (ipykernel)",
   "language": "python",
   "name": "python3"
  },
  "language_info": {
   "codemirror_mode": {
    "name": "ipython",
    "version": 3
   },
   "file_extension": ".py",
   "mimetype": "text/x-python",
   "name": "python",
   "nbconvert_exporter": "python",
   "pygments_lexer": "ipython3",
   "version": "3.11.7"
  }
 },
 "nbformat": 4,
 "nbformat_minor": 4
}
